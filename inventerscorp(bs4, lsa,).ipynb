{
 "cells": [
  {
   "cell_type": "code",
   "execution_count": 87,
   "metadata": {},
   "outputs": [],
   "source": [
    "#Web scraping by Beautiful Soup"
   ]
  },
  {
   "cell_type": "code",
   "execution_count": 88,
   "metadata": {},
   "outputs": [],
   "source": [
    "import urllib.request"
   ]
  },
  {
   "cell_type": "code",
   "execution_count": 89,
   "metadata": {},
   "outputs": [
    {
     "data": {
      "text/plain": [
       "'https://www.inventerscorp.org/'"
      ]
     },
     "execution_count": 89,
     "metadata": {},
     "output_type": "execute_result"
    }
   ],
   "source": [
    "link = \"https://www.inventerscorp.org/\"\n",
    "link"
   ]
  },
  {
   "cell_type": "code",
   "execution_count": 90,
   "metadata": {},
   "outputs": [],
   "source": [
    "req = urllib.request.Request(link)\n",
    "response = urllib.request.urlopen(req)\n",
    "the_page = response.read()"
   ]
  },
  {
   "cell_type": "code",
   "execution_count": 91,
   "metadata": {},
   "outputs": [
    {
     "data": {
      "text/plain": [
       "bytes"
      ]
     },
     "execution_count": 91,
     "metadata": {},
     "output_type": "execute_result"
    }
   ],
   "source": [
    "type(the_page)"
   ]
  },
  {
   "cell_type": "code",
   "execution_count": 92,
   "metadata": {},
   "outputs": [],
   "source": [
    "# Does not work on pdf,images\n",
    "from bs4 import BeautifulSoup\n",
    "soup = BeautifulSoup(the_page, 'lxml')"
   ]
  },
  {
   "cell_type": "code",
   "execution_count": 93,
   "metadata": {},
   "outputs": [
    {
     "data": {
      "text/plain": [
       "bs4.BeautifulSoup"
      ]
     },
     "execution_count": 93,
     "metadata": {},
     "output_type": "execute_result"
    }
   ],
   "source": [
    "type(soup)"
   ]
  },
  {
   "cell_type": "code",
   "execution_count": null,
   "metadata": {},
   "outputs": [],
   "source": []
  },
  {
   "cell_type": "code",
   "execution_count": null,
   "metadata": {},
   "outputs": [],
   "source": []
  },
  {
   "cell_type": "code",
   "execution_count": null,
   "metadata": {},
   "outputs": [],
   "source": []
  },
  {
   "cell_type": "code",
   "execution_count": 94,
   "metadata": {},
   "outputs": [
    {
     "data": {
      "text/plain": [
       "'At InventersCorp we focus on all round development so that none of projects stays vulnerable against any threats and we make sure each and every requirement of customer are fullfilled.'"
      ]
     },
     "execution_count": 94,
     "metadata": {},
     "output_type": "execute_result"
    }
   ],
   "source": [
    "# find all 3rd p tag\n",
    "soup.find_all(\"p\")[3].text"
   ]
  },
  {
   "cell_type": "code",
   "execution_count": 95,
   "metadata": {},
   "outputs": [
    {
     "data": {
      "text/plain": [
       "'At InventersCorp we focus on all round development so that none of projects stays vulnerable against any threats and we make sure each and every requirement of customer are fullfilled.'"
      ]
     },
     "execution_count": 95,
     "metadata": {},
     "output_type": "execute_result"
    }
   ],
   "source": [
    "soup.find_all(\"p\")[-1].text"
   ]
  },
  {
   "cell_type": "code",
   "execution_count": 96,
   "metadata": {},
   "outputs": [
    {
     "data": {
      "text/plain": [
       "4"
      ]
     },
     "execution_count": 96,
     "metadata": {},
     "output_type": "execute_result"
    }
   ],
   "source": [
    "len(soup.find_all(\"p\"))"
   ]
  },
  {
   "cell_type": "code",
   "execution_count": 97,
   "metadata": {},
   "outputs": [],
   "source": [
    "#!\n",
    "\n",
    "all_data = soup.find_all(\"p\")"
   ]
  },
  {
   "cell_type": "code",
   "execution_count": null,
   "metadata": {},
   "outputs": [],
   "source": []
  },
  {
   "cell_type": "code",
   "execution_count": null,
   "metadata": {},
   "outputs": [],
   "source": []
  },
  {
   "cell_type": "code",
   "execution_count": null,
   "metadata": {},
   "outputs": [],
   "source": []
  },
  {
   "cell_type": "code",
   "execution_count": null,
   "metadata": {},
   "outputs": [],
   "source": []
  },
  {
   "cell_type": "code",
   "execution_count": 98,
   "metadata": {},
   "outputs": [
    {
     "name": "stdout",
     "output_type": "stream",
     "text": [
      "For each project we establish relationships with partners who we know will help us create added value for your project. As well as bringing together the public and private sectors, we make sector-overarching links to gather knowledge and to learn from each other. The way we undertake projects is based on permanently applying values that reinforce each other: socio-cultural value, experiental value, building-technical value and economical value also we help our society by making technology availabe at much lower cost which is not available at the current scenario.\n",
      "The services which we are providing are very vibrent and astonishing which includes Web-Technology, Android, Cross-Platform Technology,Desktop Applications,and all other existing technologies.\n",
      "For each project we establish relationships with partners who we know will help us create added value for your project. As well as bringing together the public and private sectors.\n",
      "At InventersCorp we focus on all round development so that none of projects stays vulnerable against any threats and we make sure each and every requirement of customer are fullfilled.\n"
     ]
    }
   ],
   "source": [
    "for i in range(len(all_data)):\n",
    "    print(all_data[i].text)"
   ]
  },
  {
   "cell_type": "code",
   "execution_count": 99,
   "metadata": {},
   "outputs": [
    {
     "data": {
      "text/plain": [
       "bs4.element.ResultSet"
      ]
     },
     "execution_count": 99,
     "metadata": {},
     "output_type": "execute_result"
    }
   ],
   "source": [
    "type(all_data)"
   ]
  },
  {
   "cell_type": "code",
   "execution_count": null,
   "metadata": {},
   "outputs": [],
   "source": []
  },
  {
   "cell_type": "code",
   "execution_count": null,
   "metadata": {},
   "outputs": [],
   "source": []
  },
  {
   "cell_type": "code",
   "execution_count": null,
   "metadata": {},
   "outputs": [],
   "source": []
  },
  {
   "cell_type": "code",
   "execution_count": null,
   "metadata": {},
   "outputs": [],
   "source": []
  },
  {
   "cell_type": "code",
   "execution_count": null,
   "metadata": {},
   "outputs": [],
   "source": []
  },
  {
   "cell_type": "code",
   "execution_count": 100,
   "metadata": {},
   "outputs": [
    {
     "data": {
      "text/plain": [
       "bs4.element.ResultSet"
      ]
     },
     "execution_count": 100,
     "metadata": {},
     "output_type": "execute_result"
    }
   ],
   "source": [
    "type(all_data)"
   ]
  },
  {
   "cell_type": "code",
   "execution_count": 101,
   "metadata": {},
   "outputs": [],
   "source": [
    "text = all_data[2:-1]"
   ]
  },
  {
   "cell_type": "code",
   "execution_count": 102,
   "metadata": {},
   "outputs": [],
   "source": [
    "text = [text[i].text for i in range(len(text))]"
   ]
  },
  {
   "cell_type": "code",
   "execution_count": 103,
   "metadata": {},
   "outputs": [
    {
     "data": {
      "text/plain": [
       "1"
      ]
     },
     "execution_count": 103,
     "metadata": {},
     "output_type": "execute_result"
    }
   ],
   "source": [
    "len(text)"
   ]
  },
  {
   "cell_type": "code",
   "execution_count": 104,
   "metadata": {},
   "outputs": [
    {
     "data": {
      "text/plain": [
       "['For each project we establish relationships with partners who we know will help us create added value for your project. As well as bringing together the public and private sectors.']"
      ]
     },
     "execution_count": 104,
     "metadata": {},
     "output_type": "execute_result"
    }
   ],
   "source": [
    "text"
   ]
  },
  {
   "cell_type": "code",
   "execution_count": 105,
   "metadata": {},
   "outputs": [
    {
     "data": {
      "text/plain": [
       "'For each project we establish relationships with partners who we know will help us create added value for your project. As well as bringing together the public and private sectors.'"
      ]
     },
     "execution_count": 105,
     "metadata": {},
     "output_type": "execute_result"
    }
   ],
   "source": [
    "final_news = ' '.join(text)\n",
    "final_news"
   ]
  },
  {
   "cell_type": "code",
   "execution_count": null,
   "metadata": {},
   "outputs": [],
   "source": []
  },
  {
   "cell_type": "code",
   "execution_count": null,
   "metadata": {},
   "outputs": [],
   "source": []
  },
  {
   "cell_type": "code",
   "execution_count": null,
   "metadata": {},
   "outputs": [],
   "source": []
  },
  {
   "cell_type": "code",
   "execution_count": null,
   "metadata": {},
   "outputs": [],
   "source": []
  },
  {
   "cell_type": "code",
   "execution_count": null,
   "metadata": {},
   "outputs": [],
   "source": []
  },
  {
   "cell_type": "code",
   "execution_count": 121,
   "metadata": {},
   "outputs": [],
   "source": [
    "#Topic Modelling by lsa"
   ]
  },
  {
   "cell_type": "code",
   "execution_count": 107,
   "metadata": {},
   "outputs": [],
   "source": [
    "data = [\"For each project we establish relationships with partners who we know will help us create added value for your project\",\n",
    "\"As well as bringing together the public and private sectors, we make sector-overarching links to gather knowledge and to learn from each other\",\n",
    "\"The way we undertake projects is based on permanently applying values that reinforce each other: socio-cultural value, experiental value, building-technical value and economical value also we help our society by making technology availabe at much lower cost which is not available at the current scenario\",\n",
    "\"The services which we are providing are very vibrent and astonishing which includes Web-Technology, Android, Cross-Platform Technology,Desktop Applications,and all other existing technologies\",\n",
    "\"At InventersCorp we focus on all round development so that none of projects stays vulnerable against any threats and we make sure each and every requirement of customer are fullfilled.\"\n",
    " ]"
   ]
  },
  {
   "cell_type": "code",
   "execution_count": null,
   "metadata": {},
   "outputs": [],
   "source": []
  },
  {
   "cell_type": "code",
   "execution_count": null,
   "metadata": {},
   "outputs": [],
   "source": []
  },
  {
   "cell_type": "code",
   "execution_count": 108,
   "metadata": {},
   "outputs": [],
   "source": [
    "from sklearn.feature_extraction.text import TfidfVectorizer\n",
    "from sklearn.decomposition import TruncatedSVD\n",
    "import pandas as pd\n",
    "import numpy as np\n",
    "import warnings"
   ]
  },
  {
   "cell_type": "code",
   "execution_count": 109,
   "metadata": {},
   "outputs": [],
   "source": [
    "data = [line.lower() for line in data]"
   ]
  },
  {
   "cell_type": "code",
   "execution_count": 110,
   "metadata": {},
   "outputs": [],
   "source": [
    "tfidf = TfidfVectorizer()\n",
    "X = tfidf.fit_transform(data)"
   ]
  },
  {
   "cell_type": "code",
   "execution_count": 111,
   "metadata": {},
   "outputs": [
    {
     "data": {
      "text/plain": [
       "(5, 102)"
      ]
     },
     "execution_count": 111,
     "metadata": {},
     "output_type": "execute_result"
    }
   ],
   "source": [
    "X.shape"
   ]
  },
  {
   "cell_type": "code",
   "execution_count": 112,
   "metadata": {},
   "outputs": [
    {
     "data": {
      "text/plain": [
       "'applications'"
      ]
     },
     "execution_count": 112,
     "metadata": {},
     "output_type": "execute_result"
    }
   ],
   "source": [
    "tfidf.get_feature_names()[7]"
   ]
  },
  {
   "cell_type": "code",
   "execution_count": 113,
   "metadata": {},
   "outputs": [],
   "source": [
    "lsa = TruncatedSVD(n_components=5, n_iter=100, random_state=42)"
   ]
  },
  {
   "cell_type": "code",
   "execution_count": null,
   "metadata": {},
   "outputs": [],
   "source": []
  },
  {
   "cell_type": "code",
   "execution_count": 114,
   "metadata": {},
   "outputs": [
    {
     "data": {
      "text/plain": [
       "TruncatedSVD(algorithm='randomized', n_components=5, n_iter=100,\n",
       "       random_state=42, tol=0.0)"
      ]
     },
     "execution_count": 114,
     "metadata": {},
     "output_type": "execute_result"
    }
   ],
   "source": [
    "lsa.fit(X)"
   ]
  },
  {
   "cell_type": "code",
   "execution_count": 115,
   "metadata": {},
   "outputs": [
    {
     "data": {
      "text/plain": [
       "array([[ 0.05541462,  0.08141921,  0.13156799,  0.06296215,  0.2933037 ,\n",
       "         0.08165592,  0.08141921,  0.08165592,  0.06296215,  0.19744747,\n",
       "         0.13149956,  0.08165592,  0.16728344,  0.06296215,  0.06296215,\n",
       "         0.06296215,  0.06574978,  0.06296215,  0.06296215,  0.06296215,\n",
       "         0.05541462,  0.08165592,  0.06296215,  0.06296215,  0.08141921,\n",
       "         0.08165592,  0.08141921,  0.14960385,  0.06296215,  0.05541462,\n",
       "         0.08141921,  0.08165592,  0.06296215,  0.08141921,  0.11082923,\n",
       "         0.06574978,  0.08141921,  0.06574978,  0.09550563,  0.08165592,\n",
       "         0.08141921,  0.12592429,  0.05541462,  0.06574978,  0.06574978,\n",
       "         0.06574978,  0.06296215,  0.11873502,  0.06296215,  0.06296215,\n",
       "         0.08141921,  0.06296215,  0.16283843,  0.11648597,  0.1408858 ,\n",
       "         0.06296215,  0.06574978,  0.05541462,  0.06296215,  0.08165592,\n",
       "         0.06574978,  0.11082923,  0.11648597,  0.08165592,  0.06574978,\n",
       "         0.06296215,  0.05541462,  0.08141921,  0.08141921,  0.06296215,\n",
       "         0.06574978,  0.06574978,  0.08165592,  0.08141921,  0.06296215,\n",
       "         0.06296215,  0.08141921,  0.08141921,  0.06296215,  0.08165592,\n",
       "         0.18255642,  0.11648597,  0.18305228,  0.08141921,  0.13149956,\n",
       "         0.06574978,  0.06296215,  0.05541462,  0.24789802,  0.06296215,\n",
       "         0.08165592,  0.08165592,  0.08141921,  0.06296215,  0.26064731,\n",
       "         0.08165592,  0.06574978,  0.18255642,  0.05541462,  0.05541462,\n",
       "         0.05541462,  0.05541462],\n",
       "       [ 0.17061101, -0.03946671, -0.08679454,  0.04129559, -0.17547545,\n",
       "        -0.06811288, -0.03946671, -0.06811288,  0.04129559, -0.14174759,\n",
       "        -0.13760406, -0.06811288,  0.03479256,  0.04129559,  0.04129559,\n",
       "         0.04129559, -0.06880203,  0.04129559,  0.04129559,  0.04129559,\n",
       "         0.17061101, -0.06811288,  0.04129559,  0.04129559, -0.03946671,\n",
       "        -0.06811288, -0.03946671,  0.05838777,  0.04129559,  0.17061101,\n",
       "        -0.03946671, -0.06811288,  0.04129559, -0.03946671,  0.34122203,\n",
       "        -0.06880203, -0.03946671, -0.06880203,  0.17096492, -0.06811288,\n",
       "        -0.03946671,  0.08259119,  0.17061101, -0.06880203, -0.06880203,\n",
       "        -0.06880203,  0.04129559, -0.08735054,  0.04129559,  0.04129559,\n",
       "        -0.03946671,  0.04129559, -0.07893342,  0.00147553, -0.06403737,\n",
       "         0.04129559, -0.06880203,  0.17061101,  0.04129559, -0.06811288,\n",
       "        -0.06880203,  0.34122203,  0.00147553, -0.06811288, -0.06880203,\n",
       "         0.04129559,  0.17061101, -0.03946671, -0.03946671,  0.04129559,\n",
       "        -0.06880203, -0.06880203, -0.06811288, -0.03946671,  0.04129559,\n",
       "         0.04129559, -0.03946671, -0.03946671,  0.04129559, -0.06811288,\n",
       "        -0.07658907,  0.00147553, -0.03638123, -0.03946671, -0.13760406,\n",
       "        -0.06880203,  0.04129559,  0.17061101,  0.270916  ,  0.04129559,\n",
       "        -0.06811288, -0.06811288, -0.03946671,  0.04129559,  0.09909638,\n",
       "        -0.06811288, -0.06880203, -0.07658907,  0.17061101,  0.17061101,\n",
       "         0.17061101,  0.17061101],\n",
       "       [ 0.05150659, -0.03413029, -0.09446966, -0.03229105,  0.05049792,\n",
       "        -0.08296242, -0.03413029, -0.08296242, -0.03229105, -0.16140322,\n",
       "         0.35610991, -0.08296242, -0.07964053, -0.03229105, -0.03229105,\n",
       "        -0.03229105,  0.17805496, -0.03229105, -0.03229105, -0.03229105,\n",
       "         0.05150659, -0.08296242, -0.03229105, -0.03229105, -0.03413029,\n",
       "        -0.08296242, -0.03413029,  0.09191035, -0.03229105,  0.05150659,\n",
       "        -0.03413029, -0.08296242, -0.03229105, -0.03413029,  0.10301319,\n",
       "         0.17805496, -0.03413029,  0.17805496,  0.01550298, -0.08296242,\n",
       "        -0.03413029, -0.0645821 ,  0.05150659,  0.17805496,  0.17805496,\n",
       "         0.17805496, -0.03229105,  0.11611752, -0.03229105, -0.03229105,\n",
       "        -0.03413029, -0.03229105, -0.06826057, -0.05358831,  0.04205889,\n",
       "        -0.03229105,  0.17805496,  0.05150659, -0.03229105, -0.08296242,\n",
       "         0.17805496,  0.10301319, -0.05358831, -0.08296242,  0.17805496,\n",
       "        -0.03229105,  0.05150659, -0.03413029, -0.03413029, -0.03229105,\n",
       "         0.17805496,  0.17805496, -0.08296242, -0.03413029, -0.03229105,\n",
       "        -0.03229105, -0.03413029, -0.03413029, -0.03229105, -0.08296242,\n",
       "        -0.15991933, -0.05358831,  0.0204332 , -0.03413029,  0.35610991,\n",
       "         0.17805496, -0.03229105,  0.05150659, -0.06265366, -0.03229105,\n",
       "        -0.08296242, -0.08296242, -0.03413029, -0.03229105,  0.0310982 ,\n",
       "        -0.08296242,  0.17805496, -0.15991933,  0.05150659,  0.05150659,\n",
       "         0.05150659,  0.05150659],\n",
       "       [ 0.00090387,  0.16955371,  0.04532865, -0.03042537,  0.01290159,\n",
       "        -0.11337001,  0.16955371, -0.11337001, -0.03042537, -0.04613756,\n",
       "        -0.0590418 , -0.11337001,  0.08770087, -0.03042537, -0.03042537,\n",
       "        -0.03042537, -0.0295209 , -0.03042537, -0.03042537, -0.03042537,\n",
       "         0.00090387, -0.11337001, -0.03042537, -0.03042537,  0.16955371,\n",
       "        -0.11337001,  0.16955371,  0.06226015, -0.03042537,  0.00090387,\n",
       "         0.16955371, -0.11337001, -0.03042537,  0.16955371,  0.00180775,\n",
       "        -0.0295209 ,  0.16955371, -0.0295209 , -0.02381776, -0.11337001,\n",
       "         0.16955371, -0.06085074,  0.00090387, -0.0295209 , -0.0295209 ,\n",
       "        -0.0295209 , -0.03042537,  0.11297759, -0.03042537, -0.03042537,\n",
       "         0.16955371, -0.03042537,  0.33910741,  0.11224787, -0.11607193,\n",
       "        -0.03042537, -0.0295209 ,  0.00090387, -0.03042537, -0.11337001,\n",
       "        -0.0295209 ,  0.00180775,  0.11224787, -0.11337001, -0.0295209 ,\n",
       "        -0.03042537,  0.00090387,  0.16955371,  0.16955371, -0.03042537,\n",
       "        -0.0295209 , -0.0295209 , -0.11337001,  0.16955371, -0.03042537,\n",
       "        -0.03042537,  0.16955371,  0.16955371, -0.03042537, -0.11337001,\n",
       "        -0.20747942,  0.11224787, -0.13644816,  0.16955371, -0.0590418 ,\n",
       "        -0.0295209 , -0.03042537,  0.00090387, -0.09745875, -0.03042537,\n",
       "        -0.11337001, -0.11337001,  0.16955371, -0.03042537,  0.06536391,\n",
       "        -0.11337001, -0.0295209 , -0.20747942,  0.00090387,  0.00090387,\n",
       "         0.00090387,  0.00090387],\n",
       "       [-0.1120772 , -0.0223086 , -0.10227033,  0.11483731, -0.0583068 ,\n",
       "        -0.10445284, -0.0223086 , -0.10445284,  0.11483731, -0.18654222,\n",
       "         0.03519141, -0.10445284,  0.1673016 ,  0.11483731,  0.11483731,\n",
       "         0.11483731,  0.0175957 ,  0.11483731,  0.11483731,  0.11483731,\n",
       "        -0.1120772 , -0.10445284,  0.11483731,  0.11483731, -0.0223086 ,\n",
       "        -0.10445284, -0.0223086 , -0.00110016,  0.11483731, -0.1120772 ,\n",
       "        -0.0223086 , -0.10445284,  0.11483731, -0.0223086 , -0.2241544 ,\n",
       "         0.0175957 , -0.0223086 ,  0.0175957 ,  0.00222684, -0.10445284,\n",
       "        -0.0223086 ,  0.22967462, -0.1120772 ,  0.0175957 ,  0.0175957 ,\n",
       "         0.0175957 ,  0.11483731, -0.00380233,  0.11483731,  0.11483731,\n",
       "        -0.0223086 ,  0.11483731, -0.04461719,  0.07465158,  0.01873865,\n",
       "         0.11483731,  0.0175957 , -0.1120772 ,  0.11483731, -0.10445284,\n",
       "         0.0175957 , -0.2241544 ,  0.07465158, -0.10445284,  0.0175957 ,\n",
       "         0.11483731, -0.1120772 , -0.0223086 , -0.0223086 ,  0.11483731,\n",
       "         0.0175957 ,  0.0175957 , -0.10445284, -0.0223086 ,  0.11483731,\n",
       "         0.11483731, -0.0223086 , -0.0223086 ,  0.11483731, -0.10445284,\n",
       "        -0.07589377,  0.07465158,  0.09564653, -0.0223086 ,  0.03519141,\n",
       "         0.0175957 ,  0.11483731, -0.1120772 ,  0.28017689,  0.11483731,\n",
       "        -0.10445284, -0.10445284, -0.0223086 ,  0.11483731, -0.06001781,\n",
       "        -0.10445284,  0.0175957 , -0.07589377, -0.1120772 , -0.1120772 ,\n",
       "        -0.1120772 , -0.1120772 ]])"
      ]
     },
     "execution_count": 115,
     "metadata": {},
     "output_type": "execute_result"
    }
   ],
   "source": [
    "lsa.components_"
   ]
  },
  {
   "cell_type": "code",
   "execution_count": 116,
   "metadata": {},
   "outputs": [],
   "source": [
    "words = tfidf.get_feature_names()"
   ]
  },
  {
   "cell_type": "code",
   "execution_count": 117,
   "metadata": {},
   "outputs": [
    {
     "data": {
      "text/plain": [
       "['added',\n",
       " 'against',\n",
       " 'all',\n",
       " 'also',\n",
       " 'and',\n",
       " 'android',\n",
       " 'any',\n",
       " 'applications',\n",
       " 'applying',\n",
       " 'are',\n",
       " 'as',\n",
       " 'astonishing',\n",
       " 'at',\n",
       " 'availabe',\n",
       " 'available',\n",
       " 'based',\n",
       " 'bringing',\n",
       " 'building',\n",
       " 'by',\n",
       " 'cost',\n",
       " 'create',\n",
       " 'cross',\n",
       " 'cultural',\n",
       " 'current',\n",
       " 'customer',\n",
       " 'desktop',\n",
       " 'development',\n",
       " 'each',\n",
       " 'economical',\n",
       " 'establish',\n",
       " 'every',\n",
       " 'existing',\n",
       " 'experiental',\n",
       " 'focus',\n",
       " 'for',\n",
       " 'from',\n",
       " 'fullfilled',\n",
       " 'gather',\n",
       " 'help',\n",
       " 'includes',\n",
       " 'inventerscorp',\n",
       " 'is',\n",
       " 'know',\n",
       " 'knowledge',\n",
       " 'learn',\n",
       " 'links',\n",
       " 'lower',\n",
       " 'make',\n",
       " 'making',\n",
       " 'much',\n",
       " 'none',\n",
       " 'not',\n",
       " 'of',\n",
       " 'on',\n",
       " 'other',\n",
       " 'our',\n",
       " 'overarching',\n",
       " 'partners',\n",
       " 'permanently',\n",
       " 'platform',\n",
       " 'private',\n",
       " 'project',\n",
       " 'projects',\n",
       " 'providing',\n",
       " 'public',\n",
       " 'reinforce',\n",
       " 'relationships',\n",
       " 'requirement',\n",
       " 'round',\n",
       " 'scenario',\n",
       " 'sector',\n",
       " 'sectors',\n",
       " 'services',\n",
       " 'so',\n",
       " 'society',\n",
       " 'socio',\n",
       " 'stays',\n",
       " 'sure',\n",
       " 'technical',\n",
       " 'technologies',\n",
       " 'technology',\n",
       " 'that',\n",
       " 'the',\n",
       " 'threats',\n",
       " 'to',\n",
       " 'together',\n",
       " 'undertake',\n",
       " 'us',\n",
       " 'value',\n",
       " 'values',\n",
       " 'very',\n",
       " 'vibrent',\n",
       " 'vulnerable',\n",
       " 'way',\n",
       " 'we',\n",
       " 'web',\n",
       " 'well',\n",
       " 'which',\n",
       " 'who',\n",
       " 'will',\n",
       " 'with',\n",
       " 'your']"
      ]
     },
     "execution_count": 117,
     "metadata": {},
     "output_type": "execute_result"
    }
   ],
   "source": [
    "words"
   ]
  },
  {
   "cell_type": "code",
   "execution_count": 118,
   "metadata": {},
   "outputs": [
    {
     "name": "stdout",
     "output_type": "stream",
     "text": [
      "\n",
      "Topic 0 ;\n",
      "('and', 0.2933036982472276)\n",
      "('we', 0.26064731092963744)\n",
      "('value', 0.24789801979901316)\n",
      "('are', 0.19744746735866878)\n",
      "('the', 0.18305227882317165)\n",
      "('technology', 0.18255642264408786)\n",
      "('which', 0.18255642264408786)\n",
      "('at', 0.1672834362573504)\n",
      "('of', 0.16283842642346263)\n",
      "('each', 0.14960384658033055)\n",
      "\n",
      "Topic 1 ;\n",
      "('for', 0.3412220278048104)\n",
      "('project', 0.3412220278048104)\n",
      "('value', 0.27091599581220954)\n",
      "('help', 0.17096491777467385)\n",
      "('added', 0.17061101390240538)\n",
      "('create', 0.1706110139024052)\n",
      "('establish', 0.1706110139024052)\n",
      "('know', 0.1706110139024052)\n",
      "('partners', 0.1706110139024052)\n",
      "('relationships', 0.1706110139024052)\n",
      "\n",
      "Topic 2 ;\n",
      "('as', 0.35610991456132013)\n",
      "('to', 0.35610991456132013)\n",
      "('bringing', 0.17805495728066006)\n",
      "('from', 0.17805495728066006)\n",
      "('gather', 0.17805495728066006)\n",
      "('knowledge', 0.17805495728066006)\n",
      "('learn', 0.17805495728066006)\n",
      "('links', 0.17805495728066006)\n",
      "('overarching', 0.17805495728066006)\n",
      "('private', 0.17805495728066006)\n",
      "\n",
      "Topic 3 ;\n",
      "('of', 0.33910741308107584)\n",
      "('against', 0.16955370654053792)\n",
      "('any', 0.16955370654053792)\n",
      "('customer', 0.16955370654053792)\n",
      "('development', 0.16955370654053792)\n",
      "('every', 0.16955370654053792)\n",
      "('focus', 0.16955370654053792)\n",
      "('fullfilled', 0.16955370654053792)\n",
      "('inventerscorp', 0.16955370654053792)\n",
      "('none', 0.16955370654053792)\n",
      "\n",
      "Topic 4 ;\n",
      "('value', 0.28017689496017106)\n",
      "('is', 0.22967462042693582)\n",
      "('at', 0.1673016031763982)\n",
      "('also', 0.11483731021346798)\n",
      "('applying', 0.11483731021346791)\n",
      "('availabe', 0.11483731021346791)\n",
      "('available', 0.11483731021346791)\n",
      "('based', 0.11483731021346791)\n",
      "('building', 0.11483731021346791)\n",
      "('by', 0.11483731021346791)\n"
     ]
    }
   ],
   "source": [
    "for i,y in enumerate(lsa.components_):\n",
    "    componentwords = zip(words, y)\n",
    "    sortedComponentwords = sorted(componentwords, key = lambda x: x[1],\n",
    "                                reverse=True)\n",
    "    sortedComponentwords = sortedComponentwords[:10]\n",
    "    print (\"\\nTopic\", i, \";\")\n",
    "    for x in sortedComponentwords:\n",
    "        print (x)"
   ]
  },
  {
   "cell_type": "code",
   "execution_count": null,
   "metadata": {},
   "outputs": [],
   "source": []
  },
  {
   "cell_type": "code",
   "execution_count": 127,
   "metadata": {},
   "outputs": [],
   "source": [
    "#Implementing Word Cloud\n",
    "#https://www.machinelearningplus.com/nlp/topic-modeling-visualization-how-to-present-results-lda-models/#10.-Word-Counts-of-Topic-Keywords"
   ]
  },
  {
   "cell_type": "code",
   "execution_count": 123,
   "metadata": {},
   "outputs": [
    {
     "name": "stdout",
     "output_type": "stream",
     "text": [
      "\n",
      "The following command must be run outside of the IPython shell:\n",
      "\n",
      "    $ pip install wordcloud\n",
      "\n",
      "The Python package manager (pip) can only be used from outside of IPython.\n",
      "Please reissue the `pip` command in a separate terminal or command prompt.\n",
      "\n",
      "See the Python documentation for more information on how to install packages:\n",
      "\n",
      "    https://docs.python.org/3/installing/\n"
     ]
    }
   ],
   "source": [
    "%pip install wordcloud"
   ]
  },
  {
   "cell_type": "code",
   "execution_count": 128,
   "metadata": {},
   "outputs": [],
   "source": [
    "from matplotlib import pyplot as plt\n",
    "from wordcloud import WordCloud, STOPWORDS, ImageColorGenerator\n",
    "import matplotlib.colors as mcolors"
   ]
  },
  {
   "cell_type": "code",
   "execution_count": 125,
   "metadata": {},
   "outputs": [],
   "source": []
  },
  {
   "cell_type": "code",
   "execution_count": null,
   "metadata": {},
   "outputs": [],
   "source": []
  },
  {
   "cell_type": "code",
   "execution_count": null,
   "metadata": {},
   "outputs": [],
   "source": []
  },
  {
   "cell_type": "code",
   "execution_count": null,
   "metadata": {},
   "outputs": [],
   "source": []
  }
 ],
 "metadata": {
  "kernelspec": {
   "display_name": "Python 3",
   "language": "python",
   "name": "python3"
  },
  "language_info": {
   "codemirror_mode": {
    "name": "ipython",
    "version": 3
   },
   "file_extension": ".py",
   "mimetype": "text/x-python",
   "name": "python",
   "nbconvert_exporter": "python",
   "pygments_lexer": "ipython3",
   "version": "3.7.1"
  }
 },
 "nbformat": 4,
 "nbformat_minor": 2
}
